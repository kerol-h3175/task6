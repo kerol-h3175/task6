{
 "cells": [
  {
   "cell_type": "code",
   "execution_count": 1,
   "id": "b921e7dc-d28e-432f-a238-919ab61cad11",
   "metadata": {},
   "outputs": [
    {
     "name": "stdout",
     "output_type": "stream",
     "text": [
      "A + B = [15 24 33 42 51]\n",
      "A - B = [ 5 16 27 38 49]\n",
      "A * B = [50 80 90 80 50]\n",
      "A / B = [ 2.  5. 10. 20. 50.]\n",
      "Mean of A: 30.0\n",
      "Max of A: 50\n",
      "Min of A: 10\n",
      "Dot product of A and B: 350\n",
      "A reshaped to 5x1:\n",
      " [[10]\n",
      " [20]\n",
      " [30]\n",
      " [40]\n",
      " [50]]\n"
     ]
    }
   ],
   "source": [
    "import numpy as np\n",
    "\n",
    "A = np.array([10, 20, 30, 40, 50])\n",
    "B = np.array([5, 4, 3, 2, 1])\n",
    "\n",
    "print(\"A + B =\", A + B)\n",
    "print(\"A - B =\", A - B)\n",
    "print(\"A * B =\", A * B)\n",
    "print(\"A / B =\", A / B)\n",
    "\n",
    "\n",
    "print(\"Mean of A:\", np.mean(A))\n",
    "print(\"Max of A:\", np.max(A))\n",
    "print(\"Min of A:\", np.min(A))\n",
    "\n",
    "\n",
    "print(\"Dot product of A and B:\", np.dot(A, B))\n",
    "\n",
    "\n",
    "A_reshaped = A.reshape(5, 1)\n",
    "print(\"A reshaped to 5x1:\\n\", A_reshaped)"
   ]
  },
  {
   "cell_type": "code",
   "execution_count": 3,
   "id": "07ad4b76-9d49-4043-b9e4-9a39059a3600",
   "metadata": {},
   "outputs": [
    {
     "name": "stdout",
     "output_type": "stream",
     "text": [
      "\n",
      " First 3 rows of the DataFrame:\n",
      "      Name  Age Grade  Marks\n",
      "0    Alice   20     A     85\n",
      "1      Bob   22     B     78\n",
      "2  Charlie   19     A     92\n",
      "\n",
      " Name and Marks columns:\n",
      "      Name  Marks\n",
      "0    Alice     85\n",
      "1      Bob     78\n",
      "2  Charlie     92\n",
      "3    David     65\n",
      "4      Eva     74\n",
      "\n",
      " Students with grade 'A':\n",
      "      Name  Age Grade  Marks\n",
      "0    Alice   20     A     85\n",
      "2  Charlie   19     A     92\n"
     ]
    }
   ],
   "source": [
    "import pandas as pd\n",
    "\n",
    "data = {\n",
    "    \"Name\": [\"Alice\", \"Bob\", \"Charlie\", \"David\", \"Eva\"],\n",
    "    \"Age\": [20, 22, 19, 21, 20],\n",
    "    \"Grade\": [\"A\", \"B\", \"A\", \"C\", \"B\"],\n",
    "    \"Marks\": [85, 78, 92, 65, 74]\n",
    "}\n",
    "\n",
    "students_data = pd.DataFrame(data)\n",
    "\n",
    "print(\"\\n First 3 rows of the DataFrame:\")\n",
    "print(students_data.head(3))\n",
    "\n",
    "print(\"\\n Name and Marks columns:\")\n",
    "print(students_data[[\"Name\", \"Marks\"]])\n",
    "\n",
    "print(\"\\n Students with grade 'A':\")\n",
    "print(students_data[students_data[\"Grade\"] == \"A\"])"
   ]
  },
  {
   "cell_type": "code",
   "execution_count": null,
   "id": "517e8072-c188-49a7-b3ba-6d5c5390c7d6",
   "metadata": {},
   "outputs": [],
   "source": []
  }
 ],
 "metadata": {
  "kernelspec": {
   "display_name": "Python [conda env:base] *",
   "language": "python",
   "name": "conda-base-py"
  },
  "language_info": {
   "codemirror_mode": {
    "name": "ipython",
    "version": 3
   },
   "file_extension": ".py",
   "mimetype": "text/x-python",
   "name": "python",
   "nbconvert_exporter": "python",
   "pygments_lexer": "ipython3",
   "version": "3.13.5"
  }
 },
 "nbformat": 4,
 "nbformat_minor": 5
}
